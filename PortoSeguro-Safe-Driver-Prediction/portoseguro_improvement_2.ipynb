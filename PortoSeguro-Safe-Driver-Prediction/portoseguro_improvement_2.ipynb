{
 "cells": [
  {
   "attachments": {},
   "cell_type": "markdown",
   "metadata": {},
   "source": [
    "# Kaggle - Porte Seguro Safe Driver Prediction - Perfomance Improvement 2\n",
    "**Author: Chris Shin**"
   ]
  },
  {
   "attachments": {},
   "cell_type": "markdown",
   "metadata": {},
   "source": [
    "In this improvement, we will use XGB to compare the performance.\n",
    "\n",
    "\n",
    "Advantages of LightGBM:\n",
    "\n",
    "- Faster training speed and lower memory usage compared to other algorithms, as it uses a novel technique called Gradient-based One-Side Sampling (GOSS) for handling imbalanced data.\n",
    "- Highly scalable and efficient for large datasets with high-dimensional features.\n",
    "- Supports parallel and distributed computing.\n",
    "- Can handle categorical features natively without the need for one-hot encoding.\n",
    "\n",
    "Disadvantages of LightGBM:\n",
    "\n",
    "- Prone to overfitting if the dataset is not properly tuned or regularized.\n",
    "- Lack of interpretability as it uses a tree-based model.\n",
    "\n",
    "Advantages of XGBoost:\n",
    "\n",
    "- Powerful and widely used algorithm with high accuracy on many datasets.\n",
    "- Robust to noise and outliers in the data.\n",
    "- Supports parallel and distributed computing.\n",
    "- Provides built-in regularization to prevent overfitting.\n",
    "- Offers better interpretability than neural networks.\n",
    "\n",
    "Disadvantages of XGBoost:\n",
    "\n",
    "- Slower than LightGBM in training time and memory usage for large datasets.\n",
    "- Limited support for handling categorical features.\n",
    "\n",
    "\n",
    "Advantages of Random Forest:\n",
    "\n",
    "- Simple and easy to implement.\n",
    "- Less prone to overfitting compared to decision trees.\n",
    "- Can handle high-dimensional datasets and noisy data.\n",
    "- Provides feature importance ranking.\n",
    "\n",
    "\n",
    "Disadvantages of Random Forest:\n",
    "\n",
    "- Can be slow for training and prediction compared to other algorithms.\n",
    "- Limited ability to learn complex patterns in the data compared to neural networks or gradient boosting algorithms.\n",
    "- Not suitable for datasets with high-cardinality categorical features.\n",
    "\n",
    "\n",
    "When to use each algorithm:\n",
    "\n",
    "- LightGBM or XGBoost are good choices for large datasets with high-dimensional features and imbalanced classes. Use - - LightGBM if speed and memory efficiency are a concern, and use XGBoost if interpretability and handling sparse data are more important.\n",
    "- Random Forest is a good choice for small to medium-sized datasets with moderate complexity and non-linear relationships between the features and target variable. It can also be used for feature selection and importance ranking."
   ]
  },
  {
   "cell_type": "code",
   "execution_count": 1,
   "metadata": {},
   "outputs": [],
   "source": [
    "import pandas as pd\n",
    "pd.options.display.max_columns = None\n",
    "\n",
    "train = pd.read_csv('./data/train.csv', index_col='id')\n",
    "test = pd.read_csv('./data/test.csv', index_col='id')\n",
    "submission = pd.read_csv('./data/sample_submission.csv', index_col='id')"
   ]
  },
  {
   "cell_type": "code",
   "execution_count": 2,
   "metadata": {},
   "outputs": [],
   "source": [
    "all_data = pd.concat([train, test], ignore_index=True)\n",
    "all_data = all_data.drop('target', axis=1)\n",
    "\n",
    "all_features = all_data.columns"
   ]
  },
  {
   "cell_type": "code",
   "execution_count": 3,
   "metadata": {},
   "outputs": [],
   "source": [
    "from sklearn.preprocessing import OneHotEncoder\n",
    "\n",
    "cat_features = [feature for feature in all_features if 'cat' in feature] \n",
    "\n",
    "onehot_encoder = OneHotEncoder()\n",
    "encoded_cat_matrix = onehot_encoder.fit_transform(all_data[cat_features]) "
   ]
  },
  {
   "cell_type": "code",
   "execution_count": 4,
   "metadata": {},
   "outputs": [],
   "source": [
    "all_data['num_missing'] = (all_data==-1).sum(axis=1)"
   ]
  },
  {
   "cell_type": "code",
   "execution_count": 5,
   "metadata": {},
   "outputs": [],
   "source": [
    "remaining_features = [feature for feature in all_features\n",
    "                      if ('cat' not in feature and 'calc' not in feature)] \n",
    "remaining_features.append('num_missing')"
   ]
  },
  {
   "cell_type": "code",
   "execution_count": 6,
   "metadata": {},
   "outputs": [],
   "source": [
    "ind_features = [feature for feature in all_features if 'ind' in feature]\n",
    "\n",
    "is_first_feature = True\n",
    "for ind_feature in ind_features:\n",
    "    if is_first_feature:\n",
    "        all_data['mix_ind'] = all_data[ind_feature].astype(str) + '_'\n",
    "        is_first_feature = False\n",
    "    else:\n",
    "        all_data['mix_ind'] += all_data[ind_feature].astype(str) + '_'"
   ]
  },
  {
   "cell_type": "code",
   "execution_count": 7,
   "metadata": {},
   "outputs": [],
   "source": [
    "cat_count_features = []\n",
    "for feature in cat_features+['mix_ind']:\n",
    "    val_counts_dict = all_data[feature].value_counts().to_dict()\n",
    "    all_data[f'{feature}_count'] = all_data[feature].apply(lambda x: \n",
    "                                                           val_counts_dict[x])\n",
    "    cat_count_features.append(f'{feature}_count')"
   ]
  },
  {
   "cell_type": "code",
   "execution_count": 8,
   "metadata": {},
   "outputs": [],
   "source": [
    "from scipy import sparse\n",
    "drop_features = ['ps_ind_14', 'ps_ind_10_bin', 'ps_ind_11_bin', \n",
    "                 'ps_ind_12_bin', 'ps_ind_13_bin', 'ps_car_14']\n",
    "\n",
    "all_data_remaining = all_data[remaining_features+cat_count_features].drop(drop_features, axis=1)\n",
    "\n",
    "all_data_sprs = sparse.hstack([sparse.csr_matrix(all_data_remaining),\n",
    "                               encoded_cat_matrix],\n",
    "                              format='csr')"
   ]
  },
  {
   "cell_type": "code",
   "execution_count": 9,
   "metadata": {},
   "outputs": [],
   "source": [
    "num_train = len(train)\n",
    "\n",
    "X = all_data_sprs[:num_train]\n",
    "X_test = all_data_sprs[num_train:]\n",
    "\n",
    "y = train['target'].values"
   ]
  },
  {
   "cell_type": "code",
   "execution_count": 10,
   "metadata": {},
   "outputs": [],
   "source": [
    "import numpy as np\n",
    "\n",
    "def eval_gini(y_true, y_pred):\n",
    "    assert y_true.shape == y_pred.shape\n",
    "\n",
    "    n_samples = y_true.shape[0]\n",
    "    L_mid = np.linspace(1 / n_samples, 1, n_samples)\n",
    "\n",
    "    pred_order = y_true[y_pred.argsort()]\n",
    "    L_pred = np.cumsum(pred_order) / np.sum(pred_order) \n",
    "    G_pred = np.sum(L_mid - L_pred) \n",
    "\n",
    "    true_order = y_true[y_true.argsort()]\n",
    "    L_true = np.cumsum(true_order) / np.sum(true_order) \n",
    "    G_true = np.sum(L_mid - L_true)\n",
    "\n",
    "    return G_pred / G_true"
   ]
  },
  {
   "cell_type": "code",
   "execution_count": 11,
   "metadata": {},
   "outputs": [],
   "source": [
    "def gini(preds, dtrain):\n",
    "    labels = dtrain.get_label()\n",
    "    return 'gini', eval_gini(labels, preds)"
   ]
  },
  {
   "cell_type": "code",
   "execution_count": 12,
   "metadata": {},
   "outputs": [],
   "source": [
    "import xgboost as xgb\n",
    "from sklearn.model_selection import train_test_split\n",
    "\n",
    "X_train, X_valid, y_train, y_valid = train_test_split(X, y, \n",
    "                                                      test_size=0.2, \n",
    "                                                      random_state=0)\n",
    "bayes_dtrain = xgb.DMatrix(X_train, y_train)\n",
    "bayes_dvalid = xgb.DMatrix(X_valid, y_valid)"
   ]
  },
  {
   "cell_type": "code",
   "execution_count": 13,
   "metadata": {},
   "outputs": [],
   "source": [
    "param_bounds = {'max_depth': (4, 8),\n",
    "                'subsample': (0.6, 0.9),\n",
    "                'colsample_bytree': (0.7, 1.0),\n",
    "                'min_child_weight': (5, 7),\n",
    "                'gamma': (8, 11),\n",
    "                'reg_alpha': (7, 9),\n",
    "                'reg_lambda': (1.1, 1.5),\n",
    "                'scale_pos_weight': (1.4, 1.6)}\n",
    "\n",
    "fixed_params = {'objective': 'binary:logistic',\n",
    "                'learning_rate': 0.02,\n",
    "                'random_state': 1991}"
   ]
  },
  {
   "cell_type": "code",
   "execution_count": 14,
   "metadata": {},
   "outputs": [],
   "source": [
    "def eval_function(max_depth, subsample, colsample_bytree, min_child_weight,\n",
    "                 reg_alpha, gamma, reg_lambda, scale_pos_weight):\n",
    "\n",
    "    params = {'max_depth': int(round(max_depth)),\n",
    "              'subsample': subsample,\n",
    "              'colsample_bytree': colsample_bytree,\n",
    "              'min_child_weight': min_child_weight,\n",
    "              'gamma': gamma,\n",
    "              'reg_alpha':reg_alpha,\n",
    "              'reg_lambda': reg_lambda,\n",
    "              'scale_pos_weight': scale_pos_weight}\n",
    "\n",
    "    params.update(fixed_params)\n",
    "    \n",
    "    print('hyperparameters :', params)    \n",
    "        \n",
    "    xgb_model = xgb.train(params=params, \n",
    "                          dtrain=bayes_dtrain,\n",
    "                          num_boost_round=2000,\n",
    "                          evals=[(bayes_dvalid, 'bayes_dvalid')],\n",
    "                          maximize=True,\n",
    "                          feval=gini,\n",
    "                          early_stopping_rounds=200,\n",
    "                          verbose_eval=False)\n",
    "                           \n",
    "    best_iter = xgb_model.best_iteration\n",
    "    preds = xgb_model.predict(bayes_dvalid, \n",
    "                              iteration_range=(0, best_iter))\n",
    "\n",
    "    gini_score = eval_gini(y_valid, preds)\n",
    "    print(f'Gini Coefficient : {gini_score}\\n')\n",
    "    \n",
    "    return gini_score"
   ]
  },
  {
   "cell_type": "code",
   "execution_count": 15,
   "metadata": {},
   "outputs": [
    {
     "name": "stdout",
     "output_type": "stream",
     "text": [
      "|   iter    |  target   | colsam... |   gamma   | max_depth | min_ch... | reg_alpha | reg_la... | scale_... | subsample |\n",
      "-------------------------------------------------------------------------------------------------------------------------\n",
      "hyperparameters : {'max_depth': 6, 'subsample': 0.867531900234624, 'colsample_bytree': 0.8646440511781974, 'min_child_weight': 6.0897663659937935, 'gamma': 10.14556809911726, 'reg_alpha': 7.84730959867781, 'reg_lambda': 1.3583576452266626, 'scale_pos_weight': 1.4875174422525386, 'objective': 'binary:logistic', 'learning_rate': 0.02, 'random_state': 1991}\n"
     ]
    },
    {
     "name": "stderr",
     "output_type": "stream",
     "text": [
      "c:\\Users\\Yuchie\\Desktop\\DataScience\\kaggle_env\\Lib\\site-packages\\xgboost\\training.py:39: UserWarning: `feval` is deprecated, use `custom_metric` instead.  They have different behavior when custom objective is also used.See https://xgboost.readthedocs.io/en/latest/tutorials/custom_metric_obj.html for details on the `custom_metric`.\n",
      "  warnings.warn(\n"
     ]
    },
    {
     "name": "stdout",
     "output_type": "stream",
     "text": [
      "Gini Coefficient : 0.2852804659784522\n",
      "\n",
      "| \u001b[0m1        \u001b[0m | \u001b[0m0.2853   \u001b[0m | \u001b[0m0.8646   \u001b[0m | \u001b[0m10.15    \u001b[0m | \u001b[0m6.411    \u001b[0m | \u001b[0m6.09     \u001b[0m | \u001b[0m7.847    \u001b[0m | \u001b[0m1.358    \u001b[0m | \u001b[0m1.488    \u001b[0m | \u001b[0m0.8675   \u001b[0m |\n",
      "hyperparameters : {'max_depth': 7, 'subsample': 0.6261387899104622, 'colsample_bytree': 0.9890988281503088, 'min_child_weight': 6.0577898395058085, 'gamma': 9.150324556477333, 'reg_alpha': 8.136089122187865, 'reg_lambda': 1.4702386553170643, 'scale_pos_weight': 1.4142072116395774, 'objective': 'binary:logistic', 'learning_rate': 0.02, 'random_state': 1991}\n",
      "Gini Coefficient : 0.2848088779310762\n",
      "\n",
      "| \u001b[0m2        \u001b[0m | \u001b[0m0.2848   \u001b[0m | \u001b[0m0.9891   \u001b[0m | \u001b[0m9.15     \u001b[0m | \u001b[0m7.167    \u001b[0m | \u001b[0m6.058    \u001b[0m | \u001b[0m8.136    \u001b[0m | \u001b[0m1.47     \u001b[0m | \u001b[0m1.414    \u001b[0m | \u001b[0m0.6261   \u001b[0m |\n",
      "hyperparameters : {'max_depth': 7, 'subsample': 0.8341587528859367, 'colsample_bytree': 0.7060655192320977, 'min_child_weight': 6.7400242964936385, 'gamma': 10.497859536643814, 'reg_alpha': 8.957236684465528, 'reg_lambda': 1.4196634256866894, 'scale_pos_weight': 1.4922958724505864, 'objective': 'binary:logistic', 'learning_rate': 0.02, 'random_state': 1991}\n",
      "Gini Coefficient : 0.28504908755804076\n",
      "\n",
      "| \u001b[0m3        \u001b[0m | \u001b[0m0.285    \u001b[0m | \u001b[0m0.7061   \u001b[0m | \u001b[0m10.5     \u001b[0m | \u001b[0m7.113    \u001b[0m | \u001b[0m6.74     \u001b[0m | \u001b[0m8.957    \u001b[0m | \u001b[0m1.42     \u001b[0m | \u001b[0m1.492    \u001b[0m | \u001b[0m0.8342   \u001b[0m |\n",
      "hyperparameters : {'max_depth': 7, 'subsample': 0.7001630536555632, 'colsample_bytree': 0.8843124587484356, 'min_child_weight': 6.494091293383359, 'gamma': 10.452246227672624, 'reg_alpha': 8.551838810159788, 'reg_lambda': 1.3814765995549108, 'scale_pos_weight': 1.423280772455086, 'objective': 'binary:logistic', 'learning_rate': 0.02, 'random_state': 1991}\n"
     ]
    },
    {
     "name": "stderr",
     "output_type": "stream",
     "text": [
      "c:\\Users\\Yuchie\\Desktop\\DataScience\\kaggle_env\\Lib\\site-packages\\xgboost\\training.py:39: UserWarning: `feval` is deprecated, use `custom_metric` instead.  They have different behavior when custom objective is also used.See https://xgboost.readthedocs.io/en/latest/tutorials/custom_metric_obj.html for details on the `custom_metric`.\n",
      "  warnings.warn(\n"
     ]
    },
    {
     "name": "stdout",
     "output_type": "stream",
     "text": [
      "Gini Coefficient : 0.28372532851421195\n",
      "\n",
      "| \u001b[0m4        \u001b[0m | \u001b[0m0.2837   \u001b[0m | \u001b[0m0.8843   \u001b[0m | \u001b[0m10.45    \u001b[0m | \u001b[0m6.838    \u001b[0m | \u001b[0m6.494    \u001b[0m | \u001b[0m8.552    \u001b[0m | \u001b[0m1.381    \u001b[0m | \u001b[0m1.423    \u001b[0m | \u001b[0m0.7002   \u001b[0m |\n",
      "hyperparameters : {'max_depth': 7, 'subsample': 0.8535233675350644, 'colsample_bytree': 0.92975858050776, 'min_child_weight': 6.249564429359247, 'gamma': 9.95563546750357, 'reg_alpha': 8.411512219837842, 'reg_lambda': 1.424460008293778, 'scale_pos_weight': 1.5416807226581535, 'objective': 'binary:logistic', 'learning_rate': 0.02, 'random_state': 1991}\n"
     ]
    },
    {
     "name": "stderr",
     "output_type": "stream",
     "text": [
      "c:\\Users\\Yuchie\\Desktop\\DataScience\\kaggle_env\\Lib\\site-packages\\xgboost\\training.py:39: UserWarning: `feval` is deprecated, use `custom_metric` instead.  They have different behavior when custom objective is also used.See https://xgboost.readthedocs.io/en/latest/tutorials/custom_metric_obj.html for details on the `custom_metric`.\n",
      "  warnings.warn(\n"
     ]
    },
    {
     "name": "stdout",
     "output_type": "stream",
     "text": [
      "Gini Coefficient : 0.28530004505451917\n",
      "\n",
      "| \u001b[95m5        \u001b[0m | \u001b[95m0.2853   \u001b[0m | \u001b[95m0.9298   \u001b[0m | \u001b[95m9.956    \u001b[0m | \u001b[95m6.809    \u001b[0m | \u001b[95m6.25     \u001b[0m | \u001b[95m8.412    \u001b[0m | \u001b[95m1.424    \u001b[0m | \u001b[95m1.542    \u001b[0m | \u001b[95m0.8535   \u001b[0m |\n",
      "hyperparameters : {'max_depth': 7, 'subsample': 0.6462619019069298, 'colsample_bytree': 0.80929192865947, 'min_child_weight': 6.079999276892042, 'gamma': 9.553916776586505, 'reg_alpha': 8.860396362258099, 'reg_lambda': 1.4050740023119348, 'scale_pos_weight': 1.4668544695338273, 'objective': 'binary:logistic', 'learning_rate': 0.02, 'random_state': 1991}\n"
     ]
    },
    {
     "name": "stderr",
     "output_type": "stream",
     "text": [
      "c:\\Users\\Yuchie\\Desktop\\DataScience\\kaggle_env\\Lib\\site-packages\\xgboost\\training.py:39: UserWarning: `feval` is deprecated, use `custom_metric` instead.  They have different behavior when custom objective is also used.See https://xgboost.readthedocs.io/en/latest/tutorials/custom_metric_obj.html for details on the `custom_metric`.\n",
      "  warnings.warn(\n"
     ]
    },
    {
     "name": "stdout",
     "output_type": "stream",
     "text": [
      "Gini Coefficient : 0.2852898511572112\n",
      "\n",
      "| \u001b[0m6        \u001b[0m | \u001b[0m0.2853   \u001b[0m | \u001b[0m0.8093   \u001b[0m | \u001b[0m9.554    \u001b[0m | \u001b[0m6.532    \u001b[0m | \u001b[0m6.08     \u001b[0m | \u001b[0m8.86     \u001b[0m | \u001b[0m1.405    \u001b[0m | \u001b[0m1.467    \u001b[0m | \u001b[0m0.6463   \u001b[0m |\n",
      "hyperparameters : {'max_depth': 7, 'subsample': 0.6931141936797243, 'colsample_bytree': 0.8817801730078565, 'min_child_weight': 6.992334203641873, 'gamma': 9.013424730095146, 'reg_alpha': 7.640858389939128, 'reg_lambda': 1.3562805915715632, 'scale_pos_weight': 1.449446257931491, 'objective': 'binary:logistic', 'learning_rate': 0.02, 'random_state': 1991}\n"
     ]
    },
    {
     "name": "stderr",
     "output_type": "stream",
     "text": [
      "c:\\Users\\Yuchie\\Desktop\\DataScience\\kaggle_env\\Lib\\site-packages\\xgboost\\training.py:39: UserWarning: `feval` is deprecated, use `custom_metric` instead.  They have different behavior when custom objective is also used.See https://xgboost.readthedocs.io/en/latest/tutorials/custom_metric_obj.html for details on the `custom_metric`.\n",
      "  warnings.warn(\n"
     ]
    },
    {
     "name": "stdout",
     "output_type": "stream",
     "text": [
      "Gini Coefficient : 0.28467572646560496\n",
      "\n",
      "| \u001b[0m7        \u001b[0m | \u001b[0m0.2847   \u001b[0m | \u001b[0m0.8818   \u001b[0m | \u001b[0m9.013    \u001b[0m | \u001b[0m6.927    \u001b[0m | \u001b[0m6.992    \u001b[0m | \u001b[0m7.641    \u001b[0m | \u001b[0m1.356    \u001b[0m | \u001b[0m1.449    \u001b[0m | \u001b[0m0.6931   \u001b[0m |\n",
      "hyperparameters : {'max_depth': 5, 'subsample': 0.6261564417044092, 'colsample_bytree': 0.8763145220620449, 'min_child_weight': 5.135323353557588, 'gamma': 8.39495450163982, 'reg_alpha': 8.950443047087845, 'reg_lambda': 1.4235649099168255, 'scale_pos_weight': 1.5217625173811569, 'objective': 'binary:logistic', 'learning_rate': 0.02, 'random_state': 1991}\n"
     ]
    },
    {
     "name": "stderr",
     "output_type": "stream",
     "text": [
      "c:\\Users\\Yuchie\\Desktop\\DataScience\\kaggle_env\\Lib\\site-packages\\xgboost\\training.py:39: UserWarning: `feval` is deprecated, use `custom_metric` instead.  They have different behavior when custom objective is also used.See https://xgboost.readthedocs.io/en/latest/tutorials/custom_metric_obj.html for details on the `custom_metric`.\n",
      "  warnings.warn(\n"
     ]
    },
    {
     "name": "stdout",
     "output_type": "stream",
     "text": [
      "Gini Coefficient : 0.28457181017567373\n",
      "\n",
      "| \u001b[0m8        \u001b[0m | \u001b[0m0.2846   \u001b[0m | \u001b[0m0.8763   \u001b[0m | \u001b[0m8.395    \u001b[0m | \u001b[0m4.561    \u001b[0m | \u001b[0m5.135    \u001b[0m | \u001b[0m8.95     \u001b[0m | \u001b[0m1.424    \u001b[0m | \u001b[0m1.522    \u001b[0m | \u001b[0m0.6262   \u001b[0m |\n",
      "hyperparameters : {'max_depth': 6, 'subsample': 0.857971740304964, 'colsample_bytree': 0.9583821245229369, 'min_child_weight': 6.158305055403563, 'gamma': 9.305332775334449, 'reg_alpha': 8.200928434091152, 'reg_lambda': 1.2571039588093065, 'scale_pos_weight': 1.4700266933495618, 'objective': 'binary:logistic', 'learning_rate': 0.02, 'random_state': 1991}\n"
     ]
    },
    {
     "name": "stderr",
     "output_type": "stream",
     "text": [
      "c:\\Users\\Yuchie\\Desktop\\DataScience\\kaggle_env\\Lib\\site-packages\\xgboost\\training.py:39: UserWarning: `feval` is deprecated, use `custom_metric` instead.  They have different behavior when custom objective is also used.See https://xgboost.readthedocs.io/en/latest/tutorials/custom_metric_obj.html for details on the `custom_metric`.\n",
      "  warnings.warn(\n"
     ]
    },
    {
     "name": "stdout",
     "output_type": "stream",
     "text": [
      "Gini Coefficient : 0.28538973194158385\n",
      "\n",
      "| \u001b[95m9        \u001b[0m | \u001b[95m0.2854   \u001b[0m | \u001b[95m0.9584   \u001b[0m | \u001b[95m9.305    \u001b[0m | \u001b[95m5.594    \u001b[0m | \u001b[95m6.158    \u001b[0m | \u001b[95m8.201    \u001b[0m | \u001b[95m1.257    \u001b[0m | \u001b[95m1.47     \u001b[0m | \u001b[95m0.858    \u001b[0m |\n",
      "=========================================================================================================================\n"
     ]
    }
   ],
   "source": [
    "from bayes_opt import BayesianOptimization\n",
    "\n",
    "optimizer = BayesianOptimization(f=eval_function, \n",
    "                                 pbounds=param_bounds, \n",
    "                                 random_state=0)\n",
    "\n",
    "optimizer.maximize(init_points=3, n_iter=6)"
   ]
  },
  {
   "cell_type": "code",
   "execution_count": 16,
   "metadata": {},
   "outputs": [
    {
     "data": {
      "text/plain": [
       "{'colsample_bytree': 0.9583821245229369,\n",
       " 'gamma': 9.305332775334449,\n",
       " 'max_depth': 5.594282602920541,\n",
       " 'min_child_weight': 6.158305055403563,\n",
       " 'reg_alpha': 8.200928434091152,\n",
       " 'reg_lambda': 1.2571039588093065,\n",
       " 'scale_pos_weight': 1.4700266933495618,\n",
       " 'subsample': 0.857971740304964}"
      ]
     },
     "execution_count": 16,
     "metadata": {},
     "output_type": "execute_result"
    }
   ],
   "source": [
    "max_params = optimizer.max['params']\n",
    "max_params"
   ]
  },
  {
   "cell_type": "code",
   "execution_count": 17,
   "metadata": {},
   "outputs": [
    {
     "data": {
      "text/plain": [
       "{'colsample_bytree': 0.9583821245229369,\n",
       " 'gamma': 9.305332775334449,\n",
       " 'max_depth': 6,\n",
       " 'min_child_weight': 6.158305055403563,\n",
       " 'reg_alpha': 8.200928434091152,\n",
       " 'reg_lambda': 1.2571039588093065,\n",
       " 'scale_pos_weight': 1.4700266933495618,\n",
       " 'subsample': 0.857971740304964,\n",
       " 'objective': 'binary:logistic',\n",
       " 'learning_rate': 0.02,\n",
       " 'random_state': 1991}"
      ]
     },
     "execution_count": 17,
     "metadata": {},
     "output_type": "execute_result"
    }
   ],
   "source": [
    "max_params['max_depth'] = int(round(max_params['max_depth']))\n",
    "\n",
    "max_params.update(fixed_params)\n",
    "max_params"
   ]
  },
  {
   "cell_type": "code",
   "execution_count": 18,
   "metadata": {},
   "outputs": [
    {
     "name": "stdout",
     "output_type": "stream",
     "text": [
      "######################################## Fold 1 / fold 5 ########################################\n"
     ]
    },
    {
     "name": "stderr",
     "output_type": "stream",
     "text": [
      "c:\\Users\\Yuchie\\Desktop\\DataScience\\kaggle_env\\Lib\\site-packages\\xgboost\\training.py:39: UserWarning: `feval` is deprecated, use `custom_metric` instead.  They have different behavior when custom objective is also used.See https://xgboost.readthedocs.io/en/latest/tutorials/custom_metric_obj.html for details on the `custom_metric`.\n",
      "  warnings.warn(\n"
     ]
    },
    {
     "name": "stdout",
     "output_type": "stream",
     "text": [
      "[0]\tvalid-logloss:0.67671\tvalid-gini:0.16215\n",
      "[100]\tvalid-logloss:0.19182\tvalid-gini:0.24941\n",
      "[200]\tvalid-logloss:0.15837\tvalid-gini:0.27811\n",
      "[300]\tvalid-logloss:0.15506\tvalid-gini:0.28780\n",
      "[400]\tvalid-logloss:0.15452\tvalid-gini:0.29319\n",
      "[500]\tvalid-logloss:0.15439\tvalid-gini:0.29533\n",
      "[600]\tvalid-logloss:0.15433\tvalid-gini:0.29681\n",
      "[700]\tvalid-logloss:0.15427\tvalid-gini:0.29816\n",
      "[800]\tvalid-logloss:0.15425\tvalid-gini:0.29872\n",
      "[900]\tvalid-logloss:0.15422\tvalid-gini:0.29916\n",
      "[1000]\tvalid-logloss:0.15422\tvalid-gini:0.29949\n",
      "[1100]\tvalid-logloss:0.15422\tvalid-gini:0.29951\n",
      "[1200]\tvalid-logloss:0.15422\tvalid-gini:0.29941\n",
      "[1300]\tvalid-logloss:0.15420\tvalid-gini:0.29947\n",
      "[1338]\tvalid-logloss:0.15421\tvalid-gini:0.29945\n",
      "Fold 1 gini coefficient : 0.2996383794197772\n",
      "\n",
      "######################################## Fold 2 / fold 5 ########################################\n",
      "[0]\tvalid-logloss:0.67670\tvalid-gini:0.15338\n",
      "[100]\tvalid-logloss:0.19190\tvalid-gini:0.24056\n",
      "[200]\tvalid-logloss:0.15862\tvalid-gini:0.26445\n",
      "[300]\tvalid-logloss:0.15542\tvalid-gini:0.27408\n",
      "[400]\tvalid-logloss:0.15493\tvalid-gini:0.27824\n",
      "[500]\tvalid-logloss:0.15479\tvalid-gini:0.28058\n",
      "[600]\tvalid-logloss:0.15474\tvalid-gini:0.28193\n",
      "[700]\tvalid-logloss:0.15471\tvalid-gini:0.28279\n",
      "[800]\tvalid-logloss:0.15471\tvalid-gini:0.28313\n",
      "[900]\tvalid-logloss:0.15468\tvalid-gini:0.28360\n",
      "[1000]\tvalid-logloss:0.15467\tvalid-gini:0.28425\n",
      "[1100]\tvalid-logloss:0.15467\tvalid-gini:0.28435\n",
      "[1200]\tvalid-logloss:0.15465\tvalid-gini:0.28475\n",
      "[1300]\tvalid-logloss:0.15465\tvalid-gini:0.28490\n",
      "[1400]\tvalid-logloss:0.15464\tvalid-gini:0.28515\n",
      "[1500]\tvalid-logloss:0.15464\tvalid-gini:0.28503\n",
      "[1600]\tvalid-logloss:0.15465\tvalid-gini:0.28503\n",
      "[1634]\tvalid-logloss:0.15464\tvalid-gini:0.28504\n",
      "Fold 2 gini coefficient : 0.2852264715520086\n",
      "\n",
      "######################################## Fold 3 / fold 5 ########################################\n",
      "[0]\tvalid-logloss:0.67670\tvalid-gini:0.15662\n",
      "[100]\tvalid-logloss:0.19179\tvalid-gini:0.24702\n",
      "[200]\tvalid-logloss:0.15838\tvalid-gini:0.27073\n",
      "[300]\tvalid-logloss:0.15509\tvalid-gini:0.27895\n",
      "[400]\tvalid-logloss:0.15462\tvalid-gini:0.28197\n",
      "[500]\tvalid-logloss:0.15454\tvalid-gini:0.28295\n",
      "[600]\tvalid-logloss:0.15452\tvalid-gini:0.28350\n",
      "[700]\tvalid-logloss:0.15451\tvalid-gini:0.28375\n",
      "[800]\tvalid-logloss:0.15447\tvalid-gini:0.28444\n",
      "[900]\tvalid-logloss:0.15448\tvalid-gini:0.28427\n",
      "[1000]\tvalid-logloss:0.15448\tvalid-gini:0.28452\n",
      "[1100]\tvalid-logloss:0.15448\tvalid-gini:0.28462\n",
      "[1200]\tvalid-logloss:0.15448\tvalid-gini:0.28461\n",
      "[1300]\tvalid-logloss:0.15449\tvalid-gini:0.28438\n",
      "[1364]\tvalid-logloss:0.15447\tvalid-gini:0.28467\n",
      "Fold 3 gini coefficient : 0.28469150190156506\n",
      "\n",
      "######################################## Fold 4 / fold 5 ########################################\n",
      "[0]\tvalid-logloss:0.67670\tvalid-gini:0.16821\n",
      "[100]\tvalid-logloss:0.19173\tvalid-gini:0.23869\n",
      "[200]\tvalid-logloss:0.15846\tvalid-gini:0.26465\n",
      "[300]\tvalid-logloss:0.15526\tvalid-gini:0.27270\n",
      "[400]\tvalid-logloss:0.15482\tvalid-gini:0.27515\n",
      "[500]\tvalid-logloss:0.15472\tvalid-gini:0.27660\n",
      "[600]\tvalid-logloss:0.15467\tvalid-gini:0.27774\n",
      "[700]\tvalid-logloss:0.15464\tvalid-gini:0.27846\n",
      "[800]\tvalid-logloss:0.15462\tvalid-gini:0.27907\n",
      "[900]\tvalid-logloss:0.15461\tvalid-gini:0.27949\n",
      "[1000]\tvalid-logloss:0.15459\tvalid-gini:0.27973\n",
      "[1100]\tvalid-logloss:0.15460\tvalid-gini:0.27975\n",
      "[1200]\tvalid-logloss:0.15460\tvalid-gini:0.27984\n",
      "[1300]\tvalid-logloss:0.15460\tvalid-gini:0.27984\n",
      "[1400]\tvalid-logloss:0.15460\tvalid-gini:0.27981\n",
      "[1424]\tvalid-logloss:0.15460\tvalid-gini:0.27979\n",
      "Fold 4 gini coefficient : 0.27991724318908323\n",
      "\n",
      "######################################## Fold 5 / fold 5 ########################################\n",
      "[0]\tvalid-logloss:0.67671\tvalid-gini:0.17061\n",
      "[100]\tvalid-logloss:0.19185\tvalid-gini:0.24638\n",
      "[200]\tvalid-logloss:0.15860\tvalid-gini:0.27270\n",
      "[300]\tvalid-logloss:0.15535\tvalid-gini:0.28310\n",
      "[400]\tvalid-logloss:0.15484\tvalid-gini:0.28760\n",
      "[500]\tvalid-logloss:0.15469\tvalid-gini:0.29034\n",
      "[600]\tvalid-logloss:0.15462\tvalid-gini:0.29223\n",
      "[700]\tvalid-logloss:0.15458\tvalid-gini:0.29313\n",
      "[800]\tvalid-logloss:0.15455\tvalid-gini:0.29412\n",
      "[900]\tvalid-logloss:0.15453\tvalid-gini:0.29438\n",
      "[1000]\tvalid-logloss:0.15452\tvalid-gini:0.29502\n",
      "[1100]\tvalid-logloss:0.15451\tvalid-gini:0.29513\n",
      "[1200]\tvalid-logloss:0.15448\tvalid-gini:0.29535\n",
      "[1300]\tvalid-logloss:0.15449\tvalid-gini:0.29533\n",
      "[1400]\tvalid-logloss:0.15447\tvalid-gini:0.29586\n",
      "[1500]\tvalid-logloss:0.15446\tvalid-gini:0.29596\n",
      "[1600]\tvalid-logloss:0.15446\tvalid-gini:0.29603\n",
      "[1700]\tvalid-logloss:0.15445\tvalid-gini:0.29610\n",
      "[1800]\tvalid-logloss:0.15444\tvalid-gini:0.29622\n",
      "[1900]\tvalid-logloss:0.15445\tvalid-gini:0.29619\n",
      "[1999]\tvalid-logloss:0.15444\tvalid-gini:0.29641\n",
      "Fold 5 gini coefficient : 0.2964012751575175\n",
      "\n"
     ]
    }
   ],
   "source": [
    "from sklearn.model_selection import StratifiedKFold\n",
    "\n",
    "folds = StratifiedKFold(n_splits=5, shuffle=True, random_state=1991)\n",
    "\n",
    "oof_val_preds = np.zeros(X.shape[0]) \n",
    "oof_test_preds = np.zeros(X_test.shape[0]) \n",
    "\n",
    "for idx, (train_idx, valid_idx) in enumerate(folds.split(X, y)):\n",
    "    print('#'*40, f'Fold {idx+1} / fold {folds.n_splits}', '#'*40)\n",
    "    \n",
    "    X_train, y_train = X[train_idx], y[train_idx]\n",
    "    X_valid, y_valid = X[valid_idx], y[valid_idx]\n",
    "\n",
    "    dtrain = xgb.DMatrix(X_train, y_train)\n",
    "    dvalid = xgb.DMatrix(X_valid, y_valid)\n",
    "    dtest = xgb.DMatrix(X_test)\n",
    "    xgb_model = xgb.train(params=max_params, \n",
    "                          dtrain=dtrain,\n",
    "                          num_boost_round=2000,\n",
    "                          evals=[(dvalid, 'valid')],\n",
    "                          maximize=True,\n",
    "                          feval=gini,\n",
    "                          early_stopping_rounds=200,\n",
    "                          verbose_eval=100)\n",
    "\n",
    "    best_iter = xgb_model.best_iteration\n",
    "    oof_test_preds += xgb_model.predict(dtest,\n",
    "                                        iteration_range=(0, best_iter))/folds.n_splits\n",
    "    \n",
    "    oof_val_preds[valid_idx] += xgb_model.predict(dvalid, \n",
    "                                                  iteration_range=(0, best_iter))\n",
    "    \n",
    "    gini_score = eval_gini(y_valid, oof_val_preds[valid_idx])\n",
    "    print(f'Fold {idx+1} gini coefficient : {gini_score}\\n')"
   ]
  },
  {
   "cell_type": "code",
   "execution_count": 19,
   "metadata": {},
   "outputs": [
    {
     "name": "stdout",
     "output_type": "stream",
     "text": [
      "OOF validation prediction gini coefficient: 0.28905038063620453\n"
     ]
    }
   ],
   "source": [
    "print('OOF validation prediction gini coefficient:', eval_gini(y, oof_val_preds))"
   ]
  },
  {
   "cell_type": "code",
   "execution_count": 20,
   "metadata": {},
   "outputs": [],
   "source": [
    "submission['target'] = oof_test_preds\n",
    "submission.to_csv('submission.csv')"
   ]
  }
 ],
 "metadata": {
  "kernelspec": {
   "display_name": "kaggle_env",
   "language": "python",
   "name": "python3"
  },
  "language_info": {
   "codemirror_mode": {
    "name": "ipython",
    "version": 3
   },
   "file_extension": ".py",
   "mimetype": "text/x-python",
   "name": "python",
   "nbconvert_exporter": "python",
   "pygments_lexer": "ipython3",
   "version": "3.11.1"
  },
  "orig_nbformat": 4
 },
 "nbformat": 4,
 "nbformat_minor": 2
}
